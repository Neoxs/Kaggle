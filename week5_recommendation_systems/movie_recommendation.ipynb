{
 "cells": [
  {
   "cell_type": "code",
   "execution_count": 281,
   "metadata": {},
   "outputs": [],
   "source": [
    "import numpy as np\n",
    "import matplotlib.pyplot as plt\n",
    "import pandas as pd\n",
    "import seaborn as sns\n",
    "\n",
    "from sklearn.model_selection import train_test_split\n",
    "from sklearn.metrics import mean_squared_error\n",
    "\n",
    "from math import sqrt"
   ]
  },
  {
   "cell_type": "code",
   "execution_count": 282,
   "metadata": {},
   "outputs": [
    {
     "data": {
      "text/html": [
       "<div>\n",
       "<style scoped>\n",
       "    .dataframe tbody tr th:only-of-type {\n",
       "        vertical-align: middle;\n",
       "    }\n",
       "\n",
       "    .dataframe tbody tr th {\n",
       "        vertical-align: top;\n",
       "    }\n",
       "\n",
       "    .dataframe thead th {\n",
       "        text-align: right;\n",
       "    }\n",
       "</style>\n",
       "<table border=\"1\" class=\"dataframe\">\n",
       "  <thead>\n",
       "    <tr style=\"text-align: right;\">\n",
       "      <th></th>\n",
       "      <th>user_id</th>\n",
       "      <th>item_id</th>\n",
       "      <th>rating</th>\n",
       "      <th>timestamp</th>\n",
       "    </tr>\n",
       "  </thead>\n",
       "  <tbody>\n",
       "    <tr>\n",
       "      <th>0</th>\n",
       "      <td>0</td>\n",
       "      <td>50</td>\n",
       "      <td>5</td>\n",
       "      <td>881250949</td>\n",
       "    </tr>\n",
       "    <tr>\n",
       "      <th>1</th>\n",
       "      <td>0</td>\n",
       "      <td>172</td>\n",
       "      <td>5</td>\n",
       "      <td>881250949</td>\n",
       "    </tr>\n",
       "    <tr>\n",
       "      <th>2</th>\n",
       "      <td>0</td>\n",
       "      <td>133</td>\n",
       "      <td>1</td>\n",
       "      <td>881250949</td>\n",
       "    </tr>\n",
       "    <tr>\n",
       "      <th>3</th>\n",
       "      <td>196</td>\n",
       "      <td>242</td>\n",
       "      <td>3</td>\n",
       "      <td>881250949</td>\n",
       "    </tr>\n",
       "    <tr>\n",
       "      <th>4</th>\n",
       "      <td>186</td>\n",
       "      <td>302</td>\n",
       "      <td>3</td>\n",
       "      <td>891717742</td>\n",
       "    </tr>\n",
       "  </tbody>\n",
       "</table>\n",
       "</div>"
      ],
      "text/plain": [
       "   user_id  item_id  rating  timestamp\n",
       "0        0       50       5  881250949\n",
       "1        0      172       5  881250949\n",
       "2        0      133       1  881250949\n",
       "3      196      242       3  881250949\n",
       "4      186      302       3  891717742"
      ]
     },
     "execution_count": 282,
     "metadata": {},
     "output_type": "execute_result"
    }
   ],
   "source": [
    "ratings = pd.read_csv(\"ratings_dataset.csv\")\n",
    "movies = pd.read_csv(\"Movie_Id_Titles.csv\")\n",
    "ratings.head()"
   ]
  },
  {
   "cell_type": "code",
   "execution_count": 283,
   "metadata": {},
   "outputs": [
    {
     "name": "stdout",
     "output_type": "stream",
     "text": [
      "<class 'pandas.core.frame.DataFrame'>\n",
      "RangeIndex: 100003 entries, 0 to 100002\n",
      "Data columns (total 4 columns):\n",
      " #   Column     Non-Null Count   Dtype\n",
      "---  ------     --------------   -----\n",
      " 0   user_id    100003 non-null  int64\n",
      " 1   item_id    100003 non-null  int64\n",
      " 2   rating     100003 non-null  int64\n",
      " 3   timestamp  100003 non-null  int64\n",
      "dtypes: int64(4)\n",
      "memory usage: 3.1 MB\n"
     ]
    }
   ],
   "source": [
    "ratings.info()"
   ]
  },
  {
   "cell_type": "code",
   "execution_count": 284,
   "metadata": {},
   "outputs": [
    {
     "data": {
      "text/plain": [
       "(944,)"
      ]
     },
     "execution_count": 284,
     "metadata": {},
     "output_type": "execute_result"
    }
   ],
   "source": [
    "users = ratings[\"user_id\"].unique()\n",
    "users.shape"
   ]
  },
  {
   "cell_type": "markdown",
   "metadata": {},
   "source": [
    "## Build the movie recommender"
   ]
  },
  {
   "cell_type": "code",
   "execution_count": 285,
   "metadata": {},
   "outputs": [],
   "source": [
    "train_data, test_data = train_test_split(ratings, test_size=.3, random_state=10)"
   ]
  },
  {
   "cell_type": "code",
   "execution_count": 286,
   "metadata": {},
   "outputs": [],
   "source": [
    "class popularity_based_recommender_model():\n",
    "    def __init__(self, train_data, test_data, user_id, item_id):\n",
    "        self.train_data = train_data\n",
    "        self.test_data = test_data\n",
    "        self.user_id = user_id\n",
    "        self.item_id = item_id\n",
    "        self.popularity_recommendations = None\n",
    "        \n",
    "    #Create the popularity based recommender system model\n",
    "    def fit(self):\n",
    "        #Get a count of user_ids for each unique movie as recommendation score\n",
    "        train_data_grouped = train_data.groupby([self.item_id]).agg({self.user_id: 'count'}).reset_index()\n",
    "        train_data_grouped.rename(columns = {'user_id': 'score'},inplace=True)\n",
    "    \n",
    "        #Sort the movies based upon recommendation score\n",
    "        train_data_sort = train_data_grouped.sort_values(['score', self.item_id], ascending = [0,1])\n",
    "    \n",
    "        #Generate a recommendation rank based upon score\n",
    "        train_data_sort['Rank'] = train_data_sort['score'].rank(ascending=0, method='first')\n",
    "        \n",
    "        #Get the top 10 recommendations\n",
    "        self.popularity_recommendations = train_data_sort.head(20)\n",
    "\n",
    "    #Use the popularity based recommender system model to make recommendations\n",
    "    def recommend(self, user_id, n=5):    \n",
    "        user_recommendations = self.popularity_recommendations\n",
    "        \n",
    "        #Filter movies that are not rated by the user\n",
    "        movies_already_rated_by_user = self.train_data[self.train_data[self.user_id] == user_id][self.item_id]        \n",
    "        user_recommendations = user_recommendations[~user_recommendations[self.item_id].isin(movies_already_rated_by_user)]\n",
    "        \n",
    "        #Add user_id column for which the recommendations are being generated\n",
    "        user_recommendations['user_id'] = user_id\n",
    "    \n",
    "        #Bring user_id column to the front\n",
    "        cols = user_recommendations.columns.tolist()\n",
    "        cols = cols[-1:] + cols[:-1]\n",
    "        user_recommendations = user_recommendations[cols].head(n)   \n",
    "        user_recommendations[\"movie_title\"] = user_recommendations['item_id'].map(movies.set_index('item_id')['title'])\n",
    "  \n",
    "        self.plot(user_recommendations)\n",
    "        return user_recommendations\n",
    "    \n",
    "    def plot(self, user_recommendations):\n",
    "        sns.set_style(\"whitegrid\")\n",
    "        plt.figure(figsize=(20, 10))\n",
    "        sns.set(font_scale=1.5)\n",
    "        suggested_items = sns.barplot(x='score', y=\"movie_title\", data=user_recommendations ,linewidth=1,edgecolor=\".2\",palette=\"Blues\",saturation=1)\n",
    "        suggested_items.set_title('List of the suggested movies based on their popularity')\n",
    "        suggested_items.set(xlabel='Total rating', ylabel='Titles')\n",
    "        plt.show()\n",
    "\n",
    "        \n",
    "\n",
    "        \n",
    "    def predict_evaluate(self):        \n",
    "        ratings = pd.DataFrame(self.train_data.groupby(self.item_id)['rating'].mean())\n",
    "        \n",
    "        pred_ratings = [];            \n",
    "        for data in self.test_data.values:\n",
    "            if(data[1] in (ratings.index)):\n",
    "                pred_ratings.append(ratings.loc[data[1]])\n",
    "            else:\n",
    "                pred_ratings.append(0)\n",
    "        \n",
    "        mse = mean_squared_error(self.test_data['rating'], pred_ratings)\n",
    "        rmse = sqrt(mse)\n",
    "        return rmse"
   ]
  },
  {
   "cell_type": "code",
   "execution_count": 287,
   "metadata": {},
   "outputs": [],
   "source": [
    "popularity_recommender = popularity_based_recommender_model(train_data=train_data, test_data=test_data, user_id=\"user_id\", item_id=\"item_id\")\n",
    "\n",
    "popularity_recommender.fit()"
   ]
  },
  {
   "cell_type": "code",
   "execution_count": 294,
   "metadata": {},
   "outputs": [
    {
     "name": "stderr",
     "output_type": "stream",
     "text": [
      "/var/folders/nk/l1f8p5td7p38z7qvp3bs4h7h0000gn/T/ipykernel_1454/3089845902.py:33: SettingWithCopyWarning: \n",
      "A value is trying to be set on a copy of a slice from a DataFrame.\n",
      "Try using .loc[row_indexer,col_indexer] = value instead\n",
      "\n",
      "See the caveats in the documentation: https://pandas.pydata.org/pandas-docs/stable/user_guide/indexing.html#returning-a-view-versus-a-copy\n",
      "  user_recommendations['user_id'] = user_id\n"
     ]
    },
    {
     "data": {
      "image/png": "[encoded data removed]",
      "text/plain": [
       "<Figure size 1440x720 with 1 Axes>"
      ]
     },
     "metadata": {},
     "output_type": "display_data"
    },
    {
     "data": {
      "text/html": [
       "<div>\n",
       "<style scoped>\n",
       "    .dataframe tbody tr th:only-of-type {\n",
       "        vertical-align: middle;\n",
       "    }\n",
       "\n",
       "    .dataframe tbody tr th {\n",
       "        vertical-align: top;\n",
       "    }\n",
       "\n",
       "    .dataframe thead th {\n",
       "        text-align: right;\n",
       "    }\n",
       "</style>\n",
       "<table border=\"1\" class=\"dataframe\">\n",
       "  <thead>\n",
       "    <tr style=\"text-align: right;\">\n",
       "      <th></th>\n",
       "      <th>user_id</th>\n",
       "      <th>item_id</th>\n",
       "      <th>score</th>\n",
       "      <th>Rank</th>\n",
       "      <th>movie_title</th>\n",
       "    </tr>\n",
       "  </thead>\n",
       "  <tbody>\n",
       "    <tr>\n",
       "      <th>49</th>\n",
       "      <td>1</td>\n",
       "      <td>50</td>\n",
       "      <td>410</td>\n",
       "      <td>1.0</td>\n",
       "      <td>Star Wars (1977)</td>\n",
       "    </tr>\n",
       "    <tr>\n",
       "      <th>257</th>\n",
       "      <td>1</td>\n",
       "      <td>258</td>\n",
       "      <td>365</td>\n",
       "      <td>2.0</td>\n",
       "      <td>Contact (1997)</td>\n",
       "    </tr>\n",
       "    <tr>\n",
       "      <th>293</th>\n",
       "      <td>1</td>\n",
       "      <td>294</td>\n",
       "      <td>356</td>\n",
       "      <td>3.0</td>\n",
       "      <td>Liar Liar (1997)</td>\n",
       "    </tr>\n",
       "    <tr>\n",
       "      <th>285</th>\n",
       "      <td>1</td>\n",
       "      <td>286</td>\n",
       "      <td>335</td>\n",
       "      <td>6.0</td>\n",
       "      <td>English Patient, The (1996)</td>\n",
       "    </tr>\n",
       "    <tr>\n",
       "      <th>287</th>\n",
       "      <td>1</td>\n",
       "      <td>288</td>\n",
       "      <td>335</td>\n",
       "      <td>7.0</td>\n",
       "      <td>Scream (1996)</td>\n",
       "    </tr>\n",
       "  </tbody>\n",
       "</table>\n",
       "</div>"
      ],
      "text/plain": [
       "     user_id  item_id  score  Rank                  movie_title\n",
       "49         1       50    410   1.0             Star Wars (1977)\n",
       "257        1      258    365   2.0               Contact (1997)\n",
       "293        1      294    356   3.0             Liar Liar (1997)\n",
       "285        1      286    335   6.0  English Patient, The (1996)\n",
       "287        1      288    335   7.0                Scream (1996)"
      ]
     },
     "execution_count": 294,
     "metadata": {},
     "output_type": "execute_result"
    }
   ],
   "source": [
    "result_pop_user1 = popularity_recommender.recommend(1)\n",
    "result_pop_user1"
   ]
  },
  {
   "cell_type": "markdown",
   "metadata": {},
   "source": [
    "### Popularity based recommender"
   ]
  },
  {
   "cell_type": "code",
   "execution_count": 289,
   "metadata": {},
   "outputs": [],
   "source": [
    "class collaborative_filtering_recommender_model():\n",
    "    def __init__(self, train_data, test_data):\n",
    "        self.train_data = train_data\n",
    "        self.test_data = test_data\n",
    "        self.recommendations = None\n",
    "        self.user_item_matrix = None\n",
    "        self.ratings = None\n",
    "        \n",
    "    #Create the popularity based recommender system model\n",
    "    def fit(self):\n",
    "        #Get a mean value for items based on user's ratings\n",
    "        train_data_grouped = pd.DataFrame(train_data.groupby('item_id')['rating'].mean())\n",
    "        train_data_grouped['rating_count'] = pd.DataFrame(train_data.groupby('item_id')['rating'].count())\n",
    "\n",
    "        # Create factorization matrix\n",
    "        user_movie_matrix = train_data.pivot_table(index='user_id', columns='item_id', values='rating')\n",
    "\n",
    "        self.user_item_matrix = user_movie_matrix\n",
    "        self.ratings = train_data_grouped\n",
    "\n",
    "    #Use the popularity based recommender system model to make recommendations\n",
    "    def recommend(self, user_id, threshold = 30):    \n",
    "        user_item_matrix = self.user_item_matrix\n",
    "        ratings = self.ratings\n",
    "        \n",
    "        # Get user vector\n",
    "        user_vector = user_item_matrix[user_id]\n",
    "\n",
    "        # Calculate the correlation between user_vector and other vectors\n",
    "        corr_matrix = user_item_matrix.corrwith(user_vector)\n",
    "        corr_movies = pd.DataFrame(corr_matrix, columns=['correlation'])        \n",
    "        corr_movies.dropna(inplace=True)\n",
    "\n",
    "        corr_movies = corr_movies.join(ratings['rating_count'], how='left', lsuffix='_left', rsuffix='_right')\n",
    "    \n",
    "        user_recommendations = corr_movies[corr_movies['rating_count']>threshold].sort_values('correlation', ascending=False)\n",
    "        user_recommendations[\"item_id\"] = user_recommendations.index\n",
    "\n",
    "        # #Sort the movies based upon recommendation score\n",
    "        # train_data_sort = user_recommendations.sort_values(['correlation'], ascending = 0)\n",
    "\n",
    "        user_recommendations = user_recommendations.query(\"correlation < 1\")\n",
    "\n",
    "        user_recommendations = user_recommendations.sort_values('correlation', ascending=0).head(5)\n",
    "        user_recommendations[\"movie_title\"] = user_recommendations['item_id'].map(movies.set_index('item_id')['title'])\n",
    "\n",
    "        #Generate a recommendation rank based upon score\n",
    "        user_recommendations['Rank'] = user_recommendations['correlation'].rank(ascending=0, method='first')\n",
    "\n",
    "        self.plot(user_recommendations)\n",
    "        return user_recommendations\n",
    "    \n",
    "    def plot(self, user_recommendations):\n",
    "        sns.set_style(\"whitegrid\")\n",
    "        plt.figure(figsize=(20, 10))\n",
    "        sns.set(font_scale=1.5)\n",
    "        suggested_items = sns.barplot(x='correlation', y=\"movie_title\", data=user_recommendations ,linewidth=1,edgecolor=\".2\",palette=\"Blues\",saturation=1)\n",
    "        suggested_items.set_title('List of the suggested movies based on collaboration filtering')\n",
    "        suggested_items.set(xlabel='Correlation', ylabel='Titles')\n",
    "        plt.show()\n",
    "\n",
    "        \n",
    "\n",
    "        \n",
    "    def predict_evaluate(self):        \n",
    "        ratings = pd.DataFrame(self.train_data.groupby('item_id')['rating'].mean())\n",
    "        \n",
    "        pred_ratings = [];            \n",
    "        for data in self.test_data.values:\n",
    "            if(data[1] in (ratings.index)):\n",
    "                pred_ratings.append(ratings.loc[data[1]])\n",
    "            else:\n",
    "                pred_ratings.append(0)\n",
    "        \n",
    "        mse = mean_squared_error(self.test_data['rating'].fillna(0), pred_ratings.fillna(0))\n",
    "        rmse = sqrt(mse)\n",
    "        return rmse"
   ]
  },
  {
   "cell_type": "code",
   "execution_count": 290,
   "metadata": {},
   "outputs": [],
   "source": [
    "collaboration_filtering_recommender = collaborative_filtering_recommender_model(train_data=train_data, test_data=test_data)\n",
    "\n",
    "collaboration_filtering_recommender.fit()"
   ]
  },
  {
   "cell_type": "code",
   "execution_count": 291,
   "metadata": {},
   "outputs": [
    {
     "name": "stderr",
     "output_type": "stream",
     "text": [
      "/opt/homebrew/lib/python3.9/site-packages/numpy/lib/function_base.py:2845: RuntimeWarning: Degrees of freedom <= 0 for slice\n",
      "  c = cov(x, y, rowvar, dtype=dtype)\n",
      "/opt/homebrew/lib/python3.9/site-packages/numpy/lib/function_base.py:2704: RuntimeWarning: divide by zero encountered in divide\n",
      "  c *= np.true_divide(1, fact)\n"
     ]
    },
    {
     "data": {
      "image/png": "[encoded data removed]",
      "text/plain": [
       "<Figure size 1440x720 with 1 Axes>"
      ]
     },
     "metadata": {},
     "output_type": "display_data"
    },
    {
     "data": {
      "text/html": [
       "<div>\n",
       "<style scoped>\n",
       "    .dataframe tbody tr th:only-of-type {\n",
       "        vertical-align: middle;\n",
       "    }\n",
       "\n",
       "    .dataframe tbody tr th {\n",
       "        vertical-align: top;\n",
       "    }\n",
       "\n",
       "    .dataframe thead th {\n",
       "        text-align: right;\n",
       "    }\n",
       "</style>\n",
       "<table border=\"1\" class=\"dataframe\">\n",
       "  <thead>\n",
       "    <tr style=\"text-align: right;\">\n",
       "      <th></th>\n",
       "      <th>correlation</th>\n",
       "      <th>rating_count</th>\n",
       "      <th>item_id</th>\n",
       "      <th>movie_title</th>\n",
       "      <th>Rank</th>\n",
       "    </tr>\n",
       "    <tr>\n",
       "      <th>item_id</th>\n",
       "      <th></th>\n",
       "      <th></th>\n",
       "      <th></th>\n",
       "      <th></th>\n",
       "      <th></th>\n",
       "    </tr>\n",
       "  </thead>\n",
       "  <tbody>\n",
       "    <tr>\n",
       "      <th>1</th>\n",
       "      <td>1.000000</td>\n",
       "      <td>311</td>\n",
       "      <td>1</td>\n",
       "      <td>Toy Story (1995)</td>\n",
       "      <td>1.0</td>\n",
       "    </tr>\n",
       "    <tr>\n",
       "      <th>1010</th>\n",
       "      <td>0.749869</td>\n",
       "      <td>34</td>\n",
       "      <td>1010</td>\n",
       "      <td>Basquiat (1996)</td>\n",
       "      <td>2.0</td>\n",
       "    </tr>\n",
       "    <tr>\n",
       "      <th>539</th>\n",
       "      <td>0.730341</td>\n",
       "      <td>36</td>\n",
       "      <td>539</td>\n",
       "      <td>Mouse Hunt (1997)</td>\n",
       "      <td>3.0</td>\n",
       "    </tr>\n",
       "    <tr>\n",
       "      <th>102</th>\n",
       "      <td>0.695539</td>\n",
       "      <td>39</td>\n",
       "      <td>102</td>\n",
       "      <td>Aristocats, The (1970)</td>\n",
       "      <td>4.0</td>\n",
       "    </tr>\n",
       "    <tr>\n",
       "      <th>562</th>\n",
       "      <td>0.683389</td>\n",
       "      <td>36</td>\n",
       "      <td>562</td>\n",
       "      <td>Quick and the Dead, The (1995)</td>\n",
       "      <td>5.0</td>\n",
       "    </tr>\n",
       "  </tbody>\n",
       "</table>\n",
       "</div>"
      ],
      "text/plain": [
       "         correlation  rating_count  item_id                     movie_title  \\\n",
       "item_id                                                                       \n",
       "1           1.000000           311        1                Toy Story (1995)   \n",
       "1010        0.749869            34     1010                 Basquiat (1996)   \n",
       "539         0.730341            36      539               Mouse Hunt (1997)   \n",
       "102         0.695539            39      102          Aristocats, The (1970)   \n",
       "562         0.683389            36      562  Quick and the Dead, The (1995)   \n",
       "\n",
       "         Rank  \n",
       "item_id        \n",
       "1         1.0  \n",
       "1010      2.0  \n",
       "539       3.0  \n",
       "102       4.0  \n",
       "562       5.0  "
      ]
     },
     "execution_count": 291,
     "metadata": {},
     "output_type": "execute_result"
    }
   ],
   "source": [
    "result_colab_user = collaboration_filtering_recommender.recommend(1)\n",
    "result_colab_user"
   ]
  }
 ],
 "metadata": {
  "kernelspec": {
   "display_name": "Python 3.9.13 64-bit",
   "language": "python",
   "name": "python3"
  },
  "language_info": {
   "codemirror_mode": {
    "name": "ipython",
    "version": 3
   },
   "file_extension": ".py",
   "mimetype": "text/x-python",
   "name": "python",
   "nbconvert_exporter": "python",
   "pygments_lexer": "ipython3",
   "version": "3.9.13"
  },
  "orig_nbformat": 4,
  "vscode": {
   "interpreter": {
    "hash": "b0fa6594d8f4cbf19f97940f81e996739fb7646882a419484c72d19e05852a7e"
   }
  }
 },
 "nbformat": 4,
 "nbformat_minor": 2
}
